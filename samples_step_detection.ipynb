{
 "cells": [
  {
   "cell_type": "markdown",
   "metadata": {},
   "source": [
    "## 1. read 2D point cloud"
   ]
  },
  {
   "cell_type": "code",
   "execution_count": 1,
   "metadata": {},
   "outputs": [
    {
     "name": "stdout",
     "output_type": "stream",
     "text": [
      "(9714, 2)\n",
      "----------------------\n",
      "[[  29.1248  790.    ]\n",
      " [  29.2291  790.    ]\n",
      " [  29.339   790.    ]\n",
      " ...\n",
      " [  64.9127    0.    ]\n",
      " [  65.0281    0.    ]\n",
      " [  65.0885 1603.    ]]\n"
     ]
    }
   ],
   "source": [
    "import pandas as pd\n",
    "import numpy as np\n",
    "import matplotlib.pyplot as plt\n",
    "import scipy.signal as signal\n",
    "\n",
    "df = pd.read_csv(r'./data/output_zhang_ascend.csv', encoding='utf-8', header=None, low_memory=False)\n",
    "data = df.to_numpy()\n",
    "# only 29 ~ 83 degree\n",
    "ang_range = data[:, 0].astype(int)\n",
    "data = data[(ang_range >= 29) == (ang_range <= 83)]\n",
    "print(data.shape)\n",
    "print('----------------------')\n",
    "print(data)"
   ]
  },
  {
   "cell_type": "markdown",
   "metadata": {},
   "source": [
    "## 2. split all data to each scan "
   ]
  },
  {
   "cell_type": "code",
   "execution_count": 2,
   "metadata": {},
   "outputs": [
    {
     "name": "stdout",
     "output_type": "stream",
     "text": [
      "scan times: 30\n",
      "scan_split: [0, 324, 647, 970, 1294, 1617, 1943, 2267, 2590, 2913, 3237, 3562, 3887, 4212, 4536, 4859, 5183, 5506, 5830, 6155, 6479, 6802, 7125, 7448, 7772, 8094, 8417, 8743, 9067, 9390, 9714]\n"
     ]
    }
   ],
   "source": [
    "num_scan = 1 # 1 scan = 360 degree\n",
    "num_beam = 0 # 1 beam = 0.12 degree\n",
    "previous_degree = 0 # meaningless\n",
    "scan_split = [0]\n",
    "\n",
    "# print('---------- {} time scan ----------'.format(num_scan))\n",
    "for beam in data:\n",
    "    # each scan\n",
    "    # if int(previous_degree) != 0 and int(beam[0]) == 0: \n",
    "    if int(previous_degree) - int(beam[0]) > 2: \n",
    "        scan_split.append(num_beam)\n",
    "        num_scan += 1\n",
    "        # print('---------- {} time scan ----------'.format(num_scan))\n",
    "    previous_degree = beam[0]\n",
    "\n",
    "    num_beam += 1\n",
    "\n",
    "print('scan times:', num_scan)\n",
    "\n",
    "scan_split.append(data.shape[0])\n",
    "print('scan_split:', scan_split)\n",
    "\n",
    "all_data = []\n",
    "for i in range(len(scan_split)-1):\n",
    "    all_data.append(data[scan_split[i] : scan_split[i+1]])"
   ]
  },
  {
   "cell_type": "markdown",
   "metadata": {},
   "source": [
    "## 3. traverse each scan (real time)"
   ]
  },
  {
   "cell_type": "markdown",
   "metadata": {},
   "source": [
    "* 3.1 angle range decision\n",
    "    * ![image](./figs/angle_min_max.jpg)\n",
    "* 3.2 (ascend) step detection\n",
    "    * 3.2.1 denoise/smooth\n",
    "        * SMA (Simple Moving Average): Y = (Yt + Yt-1 + Yt-2 + Yt-3 + Yt-4)/5 （pandas: dataframe.rolling(n).mean()）\n",
    "        * WMA (Weighted Moving Average): Y = (5Yt + 4Yt-1 + 3Yt-2 + 2Yt-3 + 1Yt-4) /(5+4+3+2+1) （custom function）\n",
    "        * EMA (Exponential Moving Average): 与WMA算法相似, 但多了一个平滑系a＝2/(n+1) （custom function）\n",
    "        * MF (Median Filter): 与SMA算法相似只不过变成了中位数, (scipy.signal.medfilt(dataframe, n))\n",
    "        * SGF (Savitzky-Golay Filter): 是一种多项式最小二乘法拟合的滤波法, 特点是平降噪同时保持原信号形状和宽度不变, \n",
    "        ![image](./figs/SG_Filter.jpg)\n",
    "    * 3.2.2 find inflection point\n",
    "        * SMA\n",
    "        * gradient threshold\n",
    "    * 3.2.3 calculation of step height & step distance\n",
    "        * ![image](./figs/ascend.jpg)\n",
    "* 3.3 (descend) step detection\n",
    "    * 3.3.1 find break point\n",
    "        * different threshold\n",
    "    * 3.3.2 calculation of step height & step distance\n",
    "        * ![image](./figs/descend.jpg)"
   ]
  },
  {
   "cell_type": "markdown",
   "metadata": {},
   "source": [
    "#### 3.1"
   ]
  },
  {
   "cell_type": "code",
   "execution_count": 3,
   "metadata": {},
   "outputs": [
    {
     "name": "stdout",
     "output_type": "stream",
     "text": [
      "min angle: 24\n",
      "max angle: 83\n"
     ]
    }
   ],
   "source": [
    "# given\n",
    "h = 665\n",
    "d_min = 300\n",
    "d_max = 6000\n",
    "\n",
    "# calculate\n",
    "min_theta = np.arctan(d_min/h)\n",
    "min_theta = min_theta*180/np.pi\n",
    "\n",
    "max_theta = np.arctan(d_max/h)\n",
    "max_theta = max_theta*180/np.pi\n",
    "\n",
    "print('min angle:', int(min_theta))\n",
    "print('max angle:', int(max_theta))"
   ]
  },
  {
   "cell_type": "markdown",
   "metadata": {},
   "source": [
    "#### 3.2.1"
   ]
  },
  {
   "cell_type": "code",
   "execution_count": 4,
   "metadata": {},
   "outputs": [],
   "source": [
    "def wma(y):\n",
    "    weights = np.arange(len(y)) + 1\n",
    "    wma = np.sum(weights * y) / weights.sum()\n",
    "\n",
    "    return wma\n",
    "\n",
    "def ema(y, n):\n",
    "    ema = np.zeros(len(y))\n",
    "    ema[:] = np.nan # initial via NAN\n",
    "    ema[n-1] = y[:n].mean() # only calculate the head part via SMA\n",
    "    for i in range(n, len(y)):\n",
    "        ema[i] = ema[i-1] + (y[i] - ema[i-1]) / (n + 1) * 2\n",
    "\n",
    "    return ema"
   ]
  },
  {
   "cell_type": "markdown",
   "metadata": {},
   "source": [
    "#### 3.2.3"
   ]
  },
  {
   "cell_type": "code",
   "execution_count": 5,
   "metadata": {},
   "outputs": [
    {
     "name": "stdout",
     "output_type": "stream",
     "text": [
      "step height: 118\n",
      "step distance: 952\n"
     ]
    }
   ],
   "source": [
    "# given\n",
    "h = 675\n",
    "d = 1103\n",
    "theta = 59.6997\n",
    "theta = theta*np.pi/180\n",
    "\n",
    "# calculate\n",
    "h1 = d * np.cos(theta)\n",
    "h2 = h - h1\n",
    "d1 = d * np.sin(theta)\n",
    "d2 = d1\n",
    "\n",
    "print('step height:', int(h2))\n",
    "print('step distance:', int(d2))"
   ]
  },
  {
   "cell_type": "markdown",
   "metadata": {},
   "source": [
    "#### 3.3.2"
   ]
  },
  {
   "cell_type": "code",
   "execution_count": 6,
   "metadata": {},
   "outputs": [
    {
     "name": "stdout",
     "output_type": "stream",
     "text": [
      "step height: -52\n",
      "step distance: 1840\n"
     ]
    }
   ],
   "source": [
    "# given\n",
    "h = 710\n",
    "d = 2118\n",
    "theta = 68.9\n",
    "theta = theta*np.pi/180\n",
    "\n",
    "# calculate\n",
    "h3 = d * np.cos(theta)\n",
    "h4 = h3 - h\n",
    "d3 = h * np.tan(theta)\n",
    "d4 = d3\n",
    "\n",
    "print('step height:', int(-h4))\n",
    "print('step distance:', int(d3))"
   ]
  },
  {
   "cell_type": "markdown",
   "metadata": {},
   "source": [
    "### code of 3"
   ]
  },
  {
   "cell_type": "code",
   "execution_count": 8,
   "metadata": {},
   "outputs": [
    {
     "name": "stdout",
     "output_type": "stream",
     "text": [
      "========== 1 time scan ==========\n",
      "all data: 324\n",
      "error data: 4\n"
     ]
    },
    {
     "data": {
      "image/png": "[encoded data removed]",
      "text/plain": [
       "<Figure size 432x288 with 1 Axes>"
      ]
     },
     "metadata": {
      "needs_background": "light"
     },
     "output_type": "display_data"
    },
    {
     "name": "stdout",
     "output_type": "stream",
     "text": [
      "\n",
      "----------Descend----------\n",
      "~~~ NO DITCH AHEAD ~~~\n",
      "\n",
      "----------Ascend----------\n"
     ]
    },
    {
     "data": {
      "image/png": "[encoded data removed]",
      "text/plain": [
       "<Figure size 432x288 with 1 Axes>"
      ]
     },
     "metadata": {
      "needs_background": "light"
     },
     "output_type": "display_data"
    },
    {
     "data": {
      "image/png": "[encoded data removed]",
      "text/plain": [
       "<Figure size 432x288 with 1 Axes>"
      ]
     },
     "metadata": {
      "needs_background": "light"
     },
     "output_type": "display_data"
    },
    {
     "name": "stdout",
     "output_type": "stream",
     "text": [
      "!!! STEP FOUND AHEAD !!!\n",
      "Angle:59.6997, Distance:1103.0\n",
      "Step Height: 118, Step Distance: 952\n"
     ]
    },
    {
     "data": {
      "image/png": "[encoded data removed]",
      "text/plain": [
       "<Figure size 432x288 with 1 Axes>"
      ]
     },
     "metadata": {
      "needs_background": "light"
     },
     "output_type": "display_data"
    },
    {
     "name": "stdout",
     "output_type": "stream",
     "text": [
      "\n",
      "\n",
      "\n"
     ]
    }
   ],
   "source": [
    "# common\n",
    "h = 675\n",
    "if_visual = True\n",
    "# ascend\n",
    "window_size = 7\n",
    "k = 3 # k-th order polynomial of SGF (should less than window_size)\n",
    "gradient_window_size = 20 # number of continuous distance gradients (to find inflection point) (!!must be even!!)\n",
    "gradient_threshold = 0 # decide gradient boundary (to find inflection point)\n",
    "# descend\n",
    "diffence_threshold = 75\n",
    "\n",
    "\n",
    "for id_scan, scan_data in enumerate(all_data):\n",
    "    print('========== {} time scan =========='.format(id_scan+1))\n",
    "    print('all data: {}'.format(len(scan_data)))\n",
    "\n",
    "\n",
    "    ##### number of error data #####\n",
    "    num_error = 0\n",
    "    for beam_data in scan_data:\n",
    "        if beam_data[1] == 0:\n",
    "            num_error += 1\n",
    "    print('error data: {}'.format(num_error))\n",
    "    \n",
    "    if if_visual:\n",
    "        ##### original scan data #####\n",
    "        # plt.xlim((50, 55)) # degree\n",
    "        # plt.ylim((1300, 1900)) # distance\n",
    "        plt.scatter(scan_data[:, 0], scan_data[:, 1], s=1, label='dist')\n",
    "        plt.xlabel('ang')\n",
    "        plt.ylabel('dist (original)')\n",
    "        plt.legend()\n",
    "        plt.show()\n",
    "\n",
    "    ##### non-error scan data #####\n",
    "    data = scan_data[scan_data[:, 1]!=0]\n",
    "\n",
    "\n",
    "    print()\n",
    "    print('----------Descend----------')\n",
    "\n",
    "\n",
    "    #################### descend ####################\n",
    "\n",
    "    ########## 1. find break point ##########\n",
    "    diffs = []\n",
    "    for i in range(len(data)-1):\n",
    "        diffs.append([ data[i][0], data[i+1][1] - data[i][1]]) # subtraction\n",
    "    diffs = np.array(diffs)\n",
    "\n",
    "    if False:\n",
    "        plt.scatter(diffs[:, 0], diffs[:, 1], s=1, label='dist diff') # differences\n",
    "        plt.axhline(y=75, color='r', linestyle='--')\n",
    "        plt.xlabel('angle')\n",
    "        plt.ylabel('dist diffs')\n",
    "        plt.legend()\n",
    "        plt.show()\n",
    "\n",
    "    break_point = []\n",
    "    for i, (ang, dist_diff) in enumerate(diffs):\n",
    "        if dist_diff > diffence_threshold:\n",
    "            # angle, distance, distance gradient\n",
    "            break_point.append([ data[i+1][0], data[i+1][1], dist_diff ]) ##### break point (s)\n",
    "    \n",
    "    if len(break_point) == 0:\n",
    "        print('~~~ NO DITCH AHEAD ~~~')\n",
    "    else:\n",
    "        ##### only use the first break point #####\n",
    "        bre_ang, bre_dist, bre_dist_diff = break_point[0]\n",
    "        print('!!! DITCH FOUND AHEAD !!!')\n",
    "        print('Angle:{}, Distance:{}'.format(bre_ang, bre_dist)) ########## !!! final break point !!! ##########\n",
    "\n",
    "\n",
    "        ########## 2. calculate step height(h2) & step distance(d2) ##########\n",
    "        ##### calculate h2 & d2 #####\n",
    "        # given\n",
    "        d = bre_dist\n",
    "        theta = bre_ang\n",
    "        theta = theta * np.pi / 180\n",
    "        # calculate\n",
    "        h3 = d * np.cos(theta)\n",
    "        h4 = h3 - h\n",
    "        d3 = h * np.tan(theta)\n",
    "        d4 = d3\n",
    "        print('Ditch Height: {}, Ditch Distance: {}'.format(int(-h4), int(d3)))\n",
    "\n",
    "        if False:\n",
    "            ##### original scan data #####\n",
    "            plt.scatter(bre_ang, bre_dist, s=50, c='y', label='ditch') # break point\n",
    "            plt.scatter(scan_data[:, 0], scan_data[:, 1], s=1, label='dist')\n",
    "            plt.xlabel('ang')\n",
    "            plt.ylabel('dist (original)')\n",
    "            # plt.xlim((0, 90))\n",
    "            # plt.ylim((0, 5000))\n",
    "            plt.legend()\n",
    "            plt.show()\n",
    "\n",
    "\n",
    "    print()\n",
    "    print('----------Ascend----------')\n",
    "\n",
    "\n",
    "    #################### ascend ####################\n",
    "\n",
    "    ########## 1. denoise/smooth ##########\n",
    "    # original (non-error)\n",
    "    df = pd.DataFrame(data = data, columns=['ang', 'dist'])\n",
    "    # SMA\n",
    "    df['SMA({})'.format(window_size)] = df['dist'].rolling(window_size).mean().round(2)\n",
    "    # WMA\n",
    "    df['WMA({})'.format(window_size)] = df['dist'].rolling(window_size).apply(wma, raw=True).round(2)\n",
    "    # EMA\n",
    "    df['EMA({})'.format(window_size)] = ema(df['dist'], window_size).round(2) \n",
    "    # MF\n",
    "    df['MF({})'.format(window_size)] = signal.medfilt(df['dist'], window_size).round(2) \n",
    "    # SGF\n",
    "    df['SGF({})'.format(window_size)] = signal.savgol_filter(df['dist'], window_size, k, mode='nearest') \n",
    "\n",
    "    if True:\n",
    "        plt.plot(df['ang'], df['dist'], label='dist') # original (non-error)\n",
    "        plt.plot(df['ang'], df['SMA({})'.format(window_size)], 'g--', label='SMA({})'.format(window_size)) # SMA\n",
    "        plt.plot(df['ang'], df['WMA({})'.format(window_size)], 'r--', label='WMA({})'.format(window_size)) # WMA\n",
    "        plt.plot(df['ang'], df['EMA({})'.format(window_size)], 'y--', label='EMA({})'.format(window_size)) # EMA\n",
    "        plt.plot(df['ang'], df['MF({})'.format(window_size)], 'k--', label='MF({})'.format(window_size)) # MF\n",
    "        plt.plot(df['ang'], df['SGF({})'.format(window_size)], 'c--', label='SGF({})'.format(window_size)) # SGF\n",
    "        # plt.axvline(x=56, color='r', linestyle='--')\n",
    "        # plt.axvline(x=59.3, color='r', linestyle='--')\n",
    "        plt.xlim((50, 70))\n",
    "        plt.ylim((1050, 1150))\n",
    "        plt.xlabel('angle')\n",
    "        plt.ylabel('dist (smooth)')\n",
    "        plt.legend()\n",
    "        plt.show()\n",
    "\n",
    "\n",
    "    ########## !!! use/not use smoothing !!! ##########\n",
    "    # SMA\n",
    "    # data = np.hstack((df['ang'].to_numpy()[:, np.newaxis], df['SMA({})'.format(window_size)].to_numpy()[:, np.newaxis]))\n",
    "    # WMA\n",
    "    # data = np.hstack((df['ang'].to_numpy()[:, np.newaxis], df['WMA({})'.format(window_size)].to_numpy()[:, np.newaxis]))\n",
    "    # EMA\n",
    "    # data = np.hstack((df['ang'].to_numpy()[:, np.newaxis], df['EMA({})'.format(window_size)].to_numpy()[:, np.newaxis]))\n",
    "    # MF\n",
    "    data = np.hstack((df['ang'].to_numpy()[:, np.newaxis], df['MF({})'.format(window_size)].to_numpy()[:, np.newaxis])) # best for skewness\n",
    "    # SGF\n",
    "    # data = np.hstack((df['ang'].to_numpy()[:, np.newaxis], df['SGF({})'.format(window_size)].to_numpy()[:, np.newaxis]))\n",
    "\n",
    "\n",
    "    ########## 2. find inflection point ##########\n",
    "    ##### get gradient #####\n",
    "    diffs = []\n",
    "    for i in range(len(data)-1):\n",
    "        diffs.append([ data[i][0], (data[i+1][1] - data[i][1]) / (data[i+1][0] - data[i][0]) ]) # gradient\n",
    "\n",
    "    diffs = np.array(diffs)\n",
    "\n",
    "    ##### decision via mean gradient #####\n",
    "    mean_i1_2_i10 = []\n",
    "    mean_i10_2_i20 = []\n",
    "\n",
    "    inflection_points = []\n",
    "\n",
    "    for i, (ang, dist_diffs) in enumerate(diffs):\n",
    "        if (i+2*gradient_window_size) > len(diffs): # prevent moving window overflow\n",
    "            break\n",
    "\n",
    "        i1_2_i10 = diffs[i : i+gradient_window_size][:, 1]\n",
    "        i10_2_i20 = diffs[i+gradient_window_size : i+2*gradient_window_size][:, 1]\n",
    "        \n",
    "        mean_i1_2_i10.append(i1_2_i10.mean())\n",
    "        mean_i10_2_i20.append(i10_2_i20.mean())\n",
    "        if i1_2_i10.mean() < gradient_threshold and i10_2_i20.mean() > gradient_threshold:\n",
    "            # angle, distance, distance gradient\n",
    "            index = int(i+gradient_window_size)\n",
    "            inflection_points.append([  data[index][0], data[index][1], diffs[index][1]  ]) ##### inflection point(s)\n",
    "\n",
    "    if if_visual:\n",
    "        plt.scatter(diffs[:, 0], diffs[:, 1], s=1, label='dist') # gradient\n",
    "        mean_i10_2_i20_start = int(gradient_window_size*1.5 - 1)\n",
    "        mean_i10_2_i20_end = int(-(gradient_window_size/2))\n",
    "        # plt.axvline(x=56, color='r', linestyle='--')\n",
    "        # plt.axvline(x=59.3, color='r', linestyle='--')\n",
    "        plt.plot(diffs[:, 0][mean_i10_2_i20_start:mean_i10_2_i20_end], mean_i10_2_i20, 'g-', label='mean grad') # mean of 10-20 gradients window\n",
    "        # plt.xlim((0, 90))\n",
    "        # plt.ylim((-150, 150)) \n",
    "        plt.xlabel('angle')\n",
    "        plt.ylabel('dist grad')\n",
    "        plt.legend()\n",
    "        plt.axhline(y=0, color='r', linestyle='--')\n",
    "        plt.show()\n",
    "\n",
    "    if len(inflection_points) == 0:\n",
    "        print('~~~ NO STEP AHEAD ~~~')\n",
    "    else:\n",
    "        ##### only use the last inflection point #####\n",
    "        infle_ang, infle_dist, infle_dist_diff = inflection_points[-1]\n",
    "        print('!!! STEP FOUND AHEAD !!!')\n",
    "        print('Angle:{}, Distance:{}'.format(infle_ang, infle_dist)) ########## !!! final inflection point !!! ##########\n",
    "\n",
    " \n",
    "        ########## 3. calculate step height (h2) & step distance (d2) ##########\n",
    "        ##### given #####\n",
    "        d = infle_dist\n",
    "        theta = infle_ang\n",
    "        theta = theta * np.pi / 180\n",
    "        ##### calculate h2 & d2 #####\n",
    "        h1 = d * np.cos(theta)\n",
    "        h2 = h - h1\n",
    "        d1 = d * np.sin(theta)\n",
    "        d2 = d1\n",
    "        print('Step Height: {}, Step Distance: {}'.format(int(h2), int(d2)))\n",
    "\n",
    "        if True:\n",
    "            ##### original scan data #####\n",
    "            # plt.xlim((50, 70)) # degree\n",
    "            # plt.ylim((600, 1200)) # distance\n",
    "            if len(inflection_points) != 0:\n",
    "                plt.scatter(infle_ang, infle_dist, s=50, c='r', label='step') # inflection point\n",
    "\n",
    "            plt.scatter(scan_data[:, 0], scan_data[:, 1], s=1, label='dist')\n",
    "            plt.xlabel('ang')\n",
    "            plt.ylabel('dist (original)')\n",
    "            plt.legend()\n",
    "            plt.show()\n",
    "\n",
    "\n",
    "    print()\n",
    "    print()\n",
    "    print()\n",
    "\n",
    "    break"
   ]
  },
  {
   "cell_type": "code",
   "execution_count": null,
   "metadata": {},
   "outputs": [],
   "source": []
  },
  {
   "cell_type": "code",
   "execution_count": null,
   "metadata": {},
   "outputs": [],
   "source": []
  },
  {
   "cell_type": "markdown",
   "metadata": {},
   "source": [
    "#### (descend) calculation sample of step height & step distance "
   ]
  },
  {
   "cell_type": "code",
   "execution_count": 11,
   "metadata": {},
   "outputs": [
    {
     "name": "stdout",
     "output_type": "stream",
     "text": [
      "short hypotenuse: 3082.87\n",
      "degree: 13.32\n",
      "long hypotenuse: 3408.53\n",
      "difference (long & original): 325.66\n",
      "small degree: 14.32\n",
      "difference (original & short): 211.32\n"
     ]
    }
   ],
   "source": [
    "height = 710 # mm\n",
    "width = 3000\n",
    "step = 75\n",
    "diff_degree = 1 # sampling\n",
    "\n",
    "##### on the step\n",
    "C = np.sqrt(height**2 + width**2)\n",
    "print('short hypotenuse: {:.2f}'.format(C))\n",
    "\n",
    "radian = np.arctan(height/width)\n",
    "degree = radian * 180/np.pi\n",
    "print('degree: {:.2f}'.format(degree))\n",
    "\n",
    "\n",
    "##### under the step\n",
    "long_height = height + step\n",
    "long_C = long_height/np.sin(radian)\n",
    "print('long hypotenuse: {:.2f}'.format(long_C))\n",
    "\n",
    "# difference\n",
    "diff = long_C - C \n",
    "print('difference (long & original): {:.2f}'.format(diff))\n",
    "\n",
    "\n",
    "##### on the step (before step boundary)\n",
    "small_degree = degree + diff_degree\n",
    "print('small degree: {:.2f}'.format(small_degree))\n",
    "\n",
    "small_radian = small_degree * np.pi/180\n",
    "short_C = height / np.sin(small_radian)\n",
    "\n",
    "# difference\n",
    "diff2 = C - short_C\n",
    "print('difference (original & short): {:.2f}'.format(diff2))"
   ]
  }
 ],
 "metadata": {
  "kernelspec": {
   "display_name": "Python 3.8.13 ('MachineLearning')",
   "language": "python",
   "name": "python3"
  },
  "language_info": {
   "codemirror_mode": {
    "name": "ipython",
    "version": 3
   },
   "file_extension": ".py",
   "mimetype": "text/x-python",
   "name": "python",
   "nbconvert_exporter": "python",
   "pygments_lexer": "ipython3",
   "version": "3.8.13"
  },
  "orig_nbformat": 4,
  "vscode": {
   "interpreter": {
    "hash": "a879226ba547ffef0922f761963ef10767d5621539ee3ea3d6a2001fa6e1b919"
   }
  }
 },
 "nbformat": 4,
 "nbformat_minor": 2
}
